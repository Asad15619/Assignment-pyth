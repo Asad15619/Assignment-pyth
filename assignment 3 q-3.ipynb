{
 "cells": [
  {
   "cell_type": "code",
   "execution_count": 1,
   "metadata": {},
   "outputs": [
    {
     "name": "stdout",
     "output_type": "stream",
     "text": [
      "Empty Dictionary: \n",
      "{}\n"
     ]
    }
   ],
   "source": [
    "Dict = {} \n",
    "print(\"Empty Dictionary: \") \n",
    "print(Dict) "
   ]
  },
  {
   "cell_type": "code",
   "execution_count": 3,
   "metadata": {},
   "outputs": [
    {
     "name": "stdout",
     "output_type": "stream",
     "text": [
      "Empty Dictionary: \n",
      "{}\n",
      "{'age': 27}\n"
     ]
    }
   ],
   "source": [
    "Dict = {} \n",
    "print(\"Empty Dictionary: \") \n",
    "print(Dict)\n",
    "\n",
    "#adding a key into the dictionary\n",
    "Dict.update({\"age\" : 27})\n",
    "print(Dict)\n"
   ]
  },
  {
   "cell_type": "code",
   "execution_count": null,
   "metadata": {},
   "outputs": [],
   "source": []
  }
 ],
 "metadata": {
  "kernelspec": {
   "display_name": "Python 3",
   "language": "python",
   "name": "python3"
  },
  "language_info": {
   "codemirror_mode": {
    "name": "ipython",
    "version": 3
   },
   "file_extension": ".py",
   "mimetype": "text/x-python",
   "name": "python",
   "nbconvert_exporter": "python",
   "pygments_lexer": "ipython3",
   "version": "3.7.3"
  }
 },
 "nbformat": 4,
 "nbformat_minor": 2
}
