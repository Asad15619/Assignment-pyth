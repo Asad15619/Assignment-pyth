{
 "cells": [
  {
   "cell_type": "markdown",
   "metadata": {},
   "source": [
    "Maths = int(input(\"Enter your Maths Marks :\"))\n",
    "English = int(input(\"Enter your English Marks :\"))\n",
    "Chemistry = int(input(\"Enter your Chemistry Marks :\")) "
   ]
  },
  {
   "cell_type": "code",
   "execution_count": null,
   "metadata": {},
   "outputs": [],
   "source": []
  },
  {
   "cell_type": "code",
   "execution_count": 8,
   "metadata": {},
   "outputs": [
    {
     "name": "stdout",
     "output_type": "stream",
     "text": [
      "Enter your Maths Marks :90\n",
      "Enter your English Marks :80\n",
      "Enter your Chemistry Marks :90\n",
      "Ente(r your Urdu Marks : 90\n",
      "Enter your Physics Marks :80\n",
      "\n",
      "Maths Percentage is :  90.0\n",
      "English Percentage is : 80.0\n",
      "Chemistry Percentage is : 90.0\n",
      "Urdu Percentage is : 90.0\n",
      "Physics Percentage is :  80.0\n",
      "Your Overall Grade is A\n"
     ]
    }
   ],
   "source": [
    "Maths = int(input(\"Enter your Maths Marks :\"))\n",
    "English = int(input(\"Enter your English Marks :\"))\n",
    "Chemistry = int(input(\"Enter your Chemistry Marks :\")) \n",
    "Urdu = int(input(\"Ente(r your Urdu Marks : \"))\n",
    "Physics = int(input(\"Enter your Physics Marks :\"))\n",
    "\n",
    "\n",
    "outoff = 100\n",
    "Total_Gain = Maths + English + Chemistry + Urdu + Physics\n",
    "\n",
    "Maths_Percentage = (Maths/outoff)*100\n",
    "English_Percentage = (English/outoff)*100\n",
    "Chemistry_Percentage = (Chemistry/outoff)*100\n",
    "Urdu_Percentage = (Urdu/outoff)*100\n",
    "Physics_Percentage = (Physics/outoff)*100\n",
    "\n",
    "\n",
    "print(\"\\nMaths Percentage is : \", Maths_Percentage)\n",
    "print(\"English Percentage is :\", English_Percentage)\n",
    "print(\"Chemistry Percentage is :\", Chemistry_Percentage)\n",
    "print(\"Urdu Percentage is :\", Urdu_Percentage)\n",
    "print(\"Physics Percentage is : \", Physics_Percentage)\n",
    "\n",
    "Average_Percentage = (Maths_Percentage+English_Percentage+Chemistry_Percentage+Urdu_Percentage+Physics_Percentage)//5\n",
    "\n",
    "if (Average_Percentage >=90 and Average_Percentage <=100):\n",
    "    print(\"Your Overall Grade is A+\")\n",
    "elif (Average_Percentage >=70 and Average_Percentage <=89):\n",
    "    print(\"Your Overall Grade is A\")\n",
    "elif (Average_Percentage >=60 and Average_Percentage <=69 ):\n",
    "    print(\"Your Overall Grade is B \")\n",
    "elif (Average_Percentage >=50 and Average_Percentage <=59):\n",
    "    print(\"Your Overall Grade is C\")\n",
    "    \n",
    "    \n",
    " \n",
    "\n",
    " \n",
    "\n",
    "\n",
    "\n"
   ]
  },
  {
   "cell_type": "code",
   "execution_count": null,
   "metadata": {},
   "outputs": [],
   "source": []
  },
  {
   "cell_type": "code",
   "execution_count": null,
   "metadata": {},
   "outputs": [],
   "source": [
    "86\n"
   ]
  }
 ],
 "metadata": {
  "kernelspec": {
   "display_name": "Python 3",
   "language": "python",
   "name": "python3"
  },
  "language_info": {
   "codemirror_mode": {
    "name": "ipython",
    "version": 3
   },
   "file_extension": ".py",
   "mimetype": "text/x-python",
   "name": "python",
   "nbconvert_exporter": "python",
   "pygments_lexer": "ipython3",
   "version": "3.7.3"
  }
 },
 "nbformat": 4,
 "nbformat_minor": 2
}
